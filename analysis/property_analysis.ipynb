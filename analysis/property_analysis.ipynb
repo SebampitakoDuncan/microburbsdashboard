{
  "cells": [
    {
      "cell_type": "markdown",
      "metadata": {},
      "source": [
        "# Property Data Analysis - Belmont North\n",
        "\n",
        "This notebook analyzes property data from the Microburbs API to discover insights that will inform our dashboard design.\n"
      ]
    },
    {
      "cell_type": "code",
      "execution_count": 3,
      "metadata": {},
      "outputs": [
        {
          "name": "stdout",
          "output_type": "stream",
          "text": [
            "Defaulting to user installation because normal site-packages is not writeable\n",
            "Requirement already satisfied: matplotlib in /Users/duncan/Library/Python/3.9/lib/python/site-packages (3.9.4)\n",
            "Requirement already satisfied: contourpy>=1.0.1 in /Users/duncan/Library/Python/3.9/lib/python/site-packages (from matplotlib) (1.3.0)\n",
            "Requirement already satisfied: cycler>=0.10 in /Users/duncan/Library/Python/3.9/lib/python/site-packages (from matplotlib) (0.12.1)\n",
            "Requirement already satisfied: fonttools>=4.22.0 in /Users/duncan/Library/Python/3.9/lib/python/site-packages (from matplotlib) (4.60.1)\n",
            "Requirement already satisfied: kiwisolver>=1.3.1 in /Users/duncan/Library/Python/3.9/lib/python/site-packages (from matplotlib) (1.4.7)\n",
            "Requirement already satisfied: numpy>=1.23 in /Users/duncan/Library/Python/3.9/lib/python/site-packages (from matplotlib) (2.0.2)\n",
            "Requirement already satisfied: packaging>=20.0 in /Users/duncan/Library/Python/3.9/lib/python/site-packages (from matplotlib) (25.0)\n",
            "Requirement already satisfied: pillow>=8 in /Users/duncan/Library/Python/3.9/lib/python/site-packages (from matplotlib) (11.3.0)\n",
            "Requirement already satisfied: pyparsing>=2.3.1 in /Users/duncan/Library/Python/3.9/lib/python/site-packages (from matplotlib) (3.2.5)\n",
            "Requirement already satisfied: python-dateutil>=2.7 in /Users/duncan/Library/Python/3.9/lib/python/site-packages (from matplotlib) (2.9.0.post0)\n",
            "Requirement already satisfied: importlib-resources>=3.2.0 in /Users/duncan/Library/Python/3.9/lib/python/site-packages (from matplotlib) (6.5.2)\n",
            "Requirement already satisfied: zipp>=3.1.0 in /Users/duncan/Library/Python/3.9/lib/python/site-packages (from importlib-resources>=3.2.0->matplotlib) (3.23.0)\n",
            "Requirement already satisfied: six>=1.5 in /Library/Developer/CommandLineTools/Library/Frameworks/Python3.framework/Versions/3.9/lib/python3.9/site-packages (from python-dateutil>=2.7->matplotlib) (1.15.0)\n",
            "Defaulting to user installation because normal site-packages is not writeable\n",
            "Collecting seaborn\n",
            "  Downloading seaborn-0.13.2-py3-none-any.whl.metadata (5.4 kB)\n",
            "Requirement already satisfied: numpy!=1.24.0,>=1.20 in /Users/duncan/Library/Python/3.9/lib/python/site-packages (from seaborn) (2.0.2)\n",
            "Requirement already satisfied: pandas>=1.2 in /Users/duncan/Library/Python/3.9/lib/python/site-packages (from seaborn) (2.3.1)\n",
            "Requirement already satisfied: matplotlib!=3.6.1,>=3.4 in /Users/duncan/Library/Python/3.9/lib/python/site-packages (from seaborn) (3.9.4)\n",
            "Requirement already satisfied: contourpy>=1.0.1 in /Users/duncan/Library/Python/3.9/lib/python/site-packages (from matplotlib!=3.6.1,>=3.4->seaborn) (1.3.0)\n",
            "Requirement already satisfied: cycler>=0.10 in /Users/duncan/Library/Python/3.9/lib/python/site-packages (from matplotlib!=3.6.1,>=3.4->seaborn) (0.12.1)\n",
            "Requirement already satisfied: fonttools>=4.22.0 in /Users/duncan/Library/Python/3.9/lib/python/site-packages (from matplotlib!=3.6.1,>=3.4->seaborn) (4.60.1)\n",
            "Requirement already satisfied: kiwisolver>=1.3.1 in /Users/duncan/Library/Python/3.9/lib/python/site-packages (from matplotlib!=3.6.1,>=3.4->seaborn) (1.4.7)\n",
            "Requirement already satisfied: packaging>=20.0 in /Users/duncan/Library/Python/3.9/lib/python/site-packages (from matplotlib!=3.6.1,>=3.4->seaborn) (25.0)\n",
            "Requirement already satisfied: pillow>=8 in /Users/duncan/Library/Python/3.9/lib/python/site-packages (from matplotlib!=3.6.1,>=3.4->seaborn) (11.3.0)\n",
            "Requirement already satisfied: pyparsing>=2.3.1 in /Users/duncan/Library/Python/3.9/lib/python/site-packages (from matplotlib!=3.6.1,>=3.4->seaborn) (3.2.5)\n",
            "Requirement already satisfied: python-dateutil>=2.7 in /Users/duncan/Library/Python/3.9/lib/python/site-packages (from matplotlib!=3.6.1,>=3.4->seaborn) (2.9.0.post0)\n",
            "Requirement already satisfied: importlib-resources>=3.2.0 in /Users/duncan/Library/Python/3.9/lib/python/site-packages (from matplotlib!=3.6.1,>=3.4->seaborn) (6.5.2)\n",
            "Requirement already satisfied: zipp>=3.1.0 in /Users/duncan/Library/Python/3.9/lib/python/site-packages (from importlib-resources>=3.2.0->matplotlib!=3.6.1,>=3.4->seaborn) (3.23.0)\n",
            "Requirement already satisfied: pytz>=2020.1 in /Users/duncan/Library/Python/3.9/lib/python/site-packages (from pandas>=1.2->seaborn) (2025.2)\n",
            "Requirement already satisfied: tzdata>=2022.7 in /Users/duncan/Library/Python/3.9/lib/python/site-packages (from pandas>=1.2->seaborn) (2025.2)\n",
            "Requirement already satisfied: six>=1.5 in /Library/Developer/CommandLineTools/Library/Frameworks/Python3.framework/Versions/3.9/lib/python3.9/site-packages (from python-dateutil>=2.7->matplotlib!=3.6.1,>=3.4->seaborn) (1.15.0)\n",
            "Downloading seaborn-0.13.2-py3-none-any.whl (294 kB)\n",
            "Installing collected packages: seaborn\n",
            "Successfully installed seaborn-0.13.2\n",
            "Libraries imported successfully\n"
          ]
        }
      ],
      "source": [
        "import pandas as pd\n",
        "import requests\n",
        "!pip install matplotlib\n",
        "!pip install seaborn\n",
        "import matplotlib.pyplot as plt\n",
        "import seaborn as sns\n",
        "import numpy as np\n",
        "from datetime import datetime\n",
        "import json\n",
        "\n",
        "# Set up plotting style\n",
        "plt.style.use('seaborn-v0_8')\n",
        "sns.set_palette(\"husl\")\n",
        "\n",
        "print(\"Libraries imported successfully\")\n"
      ]
    },
    {
      "cell_type": "markdown",
      "metadata": {},
      "source": [
        "## 1. Data Collection\n",
        "\n",
        "Fetch property data from the Microburbs API for Belmont North.\n"
      ]
    },
    {
      "cell_type": "code",
      "execution_count": 4,
      "metadata": {},
      "outputs": [
        {
          "name": "stdout",
          "output_type": "stream",
          "text": [
            "API Response Status: 200\n",
            "Number of properties: 8\n"
          ]
        }
      ],
      "source": [
        "# API Configuration\n",
        "url = \"https://www.microburbs.com.au/report_generator/api/suburb/properties\"\n",
        "params = {\n",
        "    \"suburb\": \"Belmont North\",\n",
        "    \"property_type\": \"house\"\n",
        "}\n",
        "headers = {\n",
        "    \"Authorization\": \"Bearer test\",\n",
        "    \"Content-Type\": \"application/json\"\n",
        "}\n",
        "\n",
        "# Fetch data\n",
        "response = requests.get(url, params=params, headers=headers)\n",
        "data = response.json()\n",
        "\n",
        "print(f\"API Response Status: {response.status_code}\")\n",
        "print(f\"Number of properties: {len(data.get('results', []))}\")\n"
      ]
    }
  ],
  "metadata": {
    "kernelspec": {
      "display_name": "Python 3",
      "language": "python",
      "name": "python3"
    },
    "language_info": {
      "codemirror_mode": {
        "name": "ipython",
        "version": 3
      },
      "file_extension": ".py",
      "mimetype": "text/x-python",
      "name": "python",
      "nbconvert_exporter": "python",
      "pygments_lexer": "ipython3",
      "version": "3.9.6"
    }
  },
  "nbformat": 4,
  "nbformat_minor": 2
}
